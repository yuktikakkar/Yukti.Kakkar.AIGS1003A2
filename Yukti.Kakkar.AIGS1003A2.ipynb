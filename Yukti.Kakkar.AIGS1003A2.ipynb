{
 "cells": [
  {
   "cell_type": "code",
   "execution_count": null,
   "id": "2f6eec1f-3336-4991-bbcf-7d4be6f35492",
   "metadata": {},
   "outputs": [],
   "source": [
    "import numpy as np\n",
    "import matplotlib.pyplot as plt\n",
    "import seaborn as sn\n",
    "import pandas as pd\n",
    "from scipy.spatial.distance import cdist\n",
    "from sklearn.metrics import silhouette_score, accuracy_score, confusion_matrix\n",
    "\n",
    "%matplotlib inline"
   ]
  },
  {
   "cell_type": "code",
   "execution_count": null,
   "id": "6d96dff7-195f-4fbd-84ce-ecbeb1c0c856",
   "metadata": {},
   "outputs": [],
   "source": [
    "np.seterr(divide='ignore', invalid='ignore')"
   ]
  },
  {
   "cell_type": "code",
   "execution_count": null,
   "id": "814689fe-3fe8-4a43-994d-5d8872b990e6",
   "metadata": {},
   "outputs": [],
   "source": [
    "iris_data = pd.read_csv('./Iris.csv')"
   ]
  },
  {
   "cell_type": "code",
   "execution_count": null,
   "id": "f069a3fa-af07-4d48-8440-db4f6376a6c0",
   "metadata": {},
   "outputs": [],
   "source": [
    "iris_data.head(3)"
   ]
  },
  {
   "cell_type": "code",
   "execution_count": null,
   "id": "4f209746-47f1-4175-8e37-98b98e8be716",
   "metadata": {},
   "outputs": [],
   "source": [
    "X = iris_data[['SepalLengthCm','SepalWidthCm', 'PetalLengthCm', 'PetalWidthCm']]"
   ]
  },
  {
   "cell_type": "code",
   "execution_count": null,
   "id": "45cc2580-545a-42e7-8bc6-1783342e0e32",
   "metadata": {},
   "outputs": [],
   "source": [
    "y_target = iris_data[['Species']]"
   ]
  },
  {
   "cell_type": "code",
   "execution_count": null,
   "id": "d92501d7-13d5-44a9-bb4a-e2ef72ea24f7",
   "metadata": {},
   "outputs": [],
   "source": [
    "iris_species = iris_data['Species'].unique()\n",
    "\n",
    "species_dict = {}\n",
    "for idx, iris_specie in enumerate(iris_species):\n",
    "    species_dict[iris_specie] = idx"
   ]
  },
  {
   "cell_type": "code",
   "execution_count": null,
   "id": "58855d16-2e94-48ea-a315-137421c42e0e",
   "metadata": {},
   "outputs": [],
   "source": [
    "for iris_specie in iris_species:\n",
    "    y_target[y_target['Species'] == iris_specie] = species_dict[iris_specie]"
   ]
  },
  {
   "cell_type": "code",
   "execution_count": null,
   "id": "3b69fa49-dafb-429c-8feb-2fee0dacfec4",
   "metadata": {},
   "outputs": [],
   "source": [
    "y_target_species = y_target['Species'].values\n",
    "y_target_format = np.array(list(y_target_species), dtype=np.int64)"
   ]
  },
  {
   "cell_type": "code",
   "execution_count": null,
   "id": "8b196e52-46a7-46d0-81bb-cb74e3d6e34c",
   "metadata": {},
   "outputs": [],
   "source": [
    "def k_means(X, K):\n",
    "    #Keep track of history so you can see k-means in action\n",
    "    centroids_history = []\n",
    "    labels_history = []\n",
    "    rand_index = np.random.choice(X.shape[0], K)  \n",
    "    centroids = X[rand_index]\n",
    "    centroids_history.append(centroids)\n",
    "    \n",
    "    while True:\n",
    "        # calculating euclidian distances , #and then np.argmin returns\n",
    "        # the index location of the minimal distance - which cluster a point    is #assigned to\n",
    "        labels = np.argmin(cdist(X, centroids), axis=1)\n",
    "        labels_history.append(labels)\n",
    "        #Take mean of points within clusters to find new centroids:\n",
    "        new_centroids = np.array([X[labels == i].mean(axis=0)\n",
    "                                for i in range(K)])\n",
    "        centroids_history.append(new_centroids)\n",
    "        \n",
    "        # If old centroids and new centroids no longer change, k-means is complete and end. Otherwise continue\n",
    "        if np.all(centroids == new_centroids):\n",
    "            break\n",
    "        centroids = new_centroids\n",
    "    \n",
    "    return centroids, labels, centroids_history, labels_history"
   ]
  },
  {
   "cell_type": "code",
   "execution_count": null,
   "id": "2b9e6f1c-a2e9-43f0-8d4e-2e4452394d04",
   "metadata": {},
   "outputs": [],
   "source": [
    "type(y_target_format)"
   ]
  },
  {
   "cell_type": "code",
   "execution_count": null,
   "id": "ab32d440-663f-451c-8515-420d25ba0a53",
   "metadata": {},
   "outputs": [],
   "source": [
    "y_target_format"
   ]
  },
  {
   "cell_type": "code",
   "execution_count": null,
   "id": "6f6f6eee-0933-4209-841b-a32930401167",
   "metadata": {},
   "outputs": [],
   "source": [
    "X_mat = X.values\n",
    "K_clusters = 3"
   ]
  },
  {
   "cell_type": "code",
   "execution_count": null,
   "id": "9834b856-10a9-43a2-897a-567e07f4d1a7",
   "metadata": {},
   "outputs": [],
   "source": [
    "centroids, labels, centroids_history, labels_history = k_means(X_mat, K_clusters)"
   ]
  },
  {
   "cell_type": "code",
   "execution_count": null,
   "id": "72637fe1-c299-47aa-94db-aae200cbae46",
   "metadata": {},
   "outputs": [],
   "source": [
    "labels"
   ]
  },
  {
   "cell_type": "code",
   "execution_count": null,
   "id": "ce0cebfb-0afa-401f-aaaa-b62df605447a",
   "metadata": {},
   "outputs": [],
   "source": [
    "def get_confusion_matrix(y_target_in, labels_in):\n",
    "    conf_mat = confusion_matrix(y_target_in, labels_in)\n",
    "    conf_mat = pd.DataFrame(conf_mat, index=iris_species, columns=iris_species)\n",
    "    \n",
    "    plt.figure(figsize=(5.5,4))\n",
    "    plt.title('Confusion Matrix for Iris Data')\n",
    "    plt.imshow(conf_mat, cmap='hot', interpolation='nearest')\n",
    "    plt.ylabel('True label')\n",
    "    plt.xlabel('Predicted label')\n",
    "    plt.show()\n",
    "    \n",
    "    return conf_mat"
   ]
  },
  {
   "cell_type": "code",
   "execution_count": null,
   "id": "c9c61fc6-772f-4e4d-a5bf-306ed567993c",
   "metadata": {},
   "outputs": [],
   "source": [
    "calculated_accuracy_score = accuracy_score(y_target_format, labels)\n",
    "print(calculated_accuracy_score)"
   ]
  },
  {
   "cell_type": "code",
   "execution_count": null,
   "id": "a010f007-14df-4a1f-b6c2-64351eeacfc8",
   "metadata": {},
   "outputs": [],
   "source": [
    "conf_mat = get_confusion_matrix(y_target_format, labels)\n",
    "conf_mat"
   ]
  },
  {
   "cell_type": "markdown",
   "id": "697e8147-6263-4e50-b06a-88bb5f436160",
   "metadata": {},
   "source": [
    "### Running the algorithm 55 times"
   ]
  },
  {
   "cell_type": "code",
   "execution_count": null,
   "id": "04b229e5-6ae2-41a1-ac44-5282388ddc09",
   "metadata": {},
   "outputs": [],
   "source": [
    "#y_target_format = np.array(list(y_target_species), dtype=np.int64)"
   ]
  },
  {
   "cell_type": "code",
   "execution_count": null,
   "id": "26d0682f-8b5c-4ef4-8d63-db6e5a6cde2b",
   "metadata": {},
   "outputs": [],
   "source": [
    "#y_target_format"
   ]
  },
  {
   "cell_type": "code",
   "execution_count": null,
   "id": "fc393249-16bf-40f6-ac92-73eb9d82dcc6",
   "metadata": {},
   "outputs": [],
   "source": [
    "accuracy_dict = {}\n",
    "accuracy_score_list = []\n",
    "\n",
    "for i in range(1, 56):\n",
    "    print(f'Iteration acount: {i}')\n",
    "    centroids, labels, centroids_history, labels_history = k_means(X_mat, K_clusters)\n",
    "\n",
    "    calculated_accuracy_score = accuracy_score(y_target_format, labels)\n",
    "    dict_data = {\n",
    "        'accuracy_score_calculated': calculated_accuracy_score,\n",
    "        'centroids': centroids\n",
    "    }\n",
    "    accuracy_dict[i] = dict_data\n",
    "    accuracy_score_list.append(calculated_accuracy_score)"
   ]
  },
  {
   "cell_type": "code",
   "execution_count": null,
   "id": "ea0638b7-96d3-48c5-868e-241ca6736009",
   "metadata": {},
   "outputs": [],
   "source": [
    "#accuracy_dict"
   ]
  },
  {
   "cell_type": "code",
   "execution_count": null,
   "id": "a6c33c3c-181b-4bef-8176-53948e54f2d7",
   "metadata": {},
   "outputs": [],
   "source": [
    "max_accuracy_score = max([val['accuracy_score_calculated'] for key,val in accuracy_dict.items()])"
   ]
  },
  {
   "cell_type": "code",
   "execution_count": null,
   "id": "52e358c8-5376-4494-8f1e-b12cf789d300",
   "metadata": {},
   "outputs": [],
   "source": [
    "max_accuracy_score"
   ]
  },
  {
   "cell_type": "code",
   "execution_count": null,
   "id": "3755f460-2733-4d51-9fc6-bcefe849e55e",
   "metadata": {},
   "outputs": [],
   "source": [
    "k = [k for k,v in accuracy_dict.items() if v['accuracy_score_calculated'] == max_accuracy_score]"
   ]
  },
  {
   "cell_type": "code",
   "execution_count": null,
   "id": "928b58ae-f5c4-4a54-9903-88d7bed045f1",
   "metadata": {},
   "outputs": [],
   "source": [
    "best_centroid = accuracy_dict[k[0]]['centroids']"
   ]
  },
  {
   "cell_type": "code",
   "execution_count": null,
   "id": "96272c4f-5672-43c3-866f-868d687526dc",
   "metadata": {},
   "outputs": [],
   "source": [
    "best_centroid"
   ]
  },
  {
   "cell_type": "code",
   "execution_count": null,
   "id": "01a14fb2-f389-43ed-8c9b-b9b3ea9be562",
   "metadata": {},
   "outputs": [],
   "source": [
    "x_data = range(0, len(accuracy_score_list))\n",
    "plt.scatter(x_data, accuracy_score_list, alpha=0.5)\n",
    "plt.title('Accuracy over the number of runs')\n",
    "plt.xlabel('Number of Runs')\n",
    "plt.ylabel('Accuracy')\n",
    "plt.show()"
   ]
  },
  {
   "cell_type": "code",
   "execution_count": null,
   "id": "5f20c85e-9129-404e-a2af-99683246b894",
   "metadata": {},
   "outputs": [],
   "source": []
  }
 ],
 "metadata": {
  "kernelspec": {
   "display_name": "Python 3 (ipykernel)",
   "language": "python",
   "name": "python3"
  },
  "language_info": {
   "codemirror_mode": {
    "name": "ipython",
    "version": 3
   },
   "file_extension": ".py",
   "mimetype": "text/x-python",
   "name": "python",
   "nbconvert_exporter": "python",
   "pygments_lexer": "ipython3",
   "version": "3.8.10"
  }
 },
 "nbformat": 4,
 "nbformat_minor": 5
}
